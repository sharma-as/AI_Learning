{
  "nbformat": 4,
  "nbformat_minor": 0,
  "metadata": {
    "colab": {
      "provenance": [],
      "authorship_tag": "ABX9TyNq/SXDQCVtdUcX/ZqrWRle",
      "include_colab_link": true
    },
    "kernelspec": {
      "name": "python3",
      "display_name": "Python 3"
    },
    "language_info": {
      "name": "python"
    }
  },
  "cells": [
    {
      "cell_type": "markdown",
      "metadata": {
        "id": "view-in-github",
        "colab_type": "text"
      },
      "source": [
        "<a href=\"https://colab.research.google.com/github/sharma-as/AI_Learning/blob/main/ToolFormer.ipynb\" target=\"_parent\"><img src=\"https://colab.research.google.com/assets/colab-badge.svg\" alt=\"Open In Colab\"/></a>"
      ]
    },
    {
      "cell_type": "code",
      "execution_count": null,
      "metadata": {
        "colab": {
          "base_uri": "https://localhost:8080/"
        },
        "id": "ebWfvOgS8p1T",
        "outputId": "38f9b214-fdab-4f61-c52b-f3a27a8ecc89"
      },
      "outputs": [
        {
          "output_type": "stream",
          "name": "stderr",
          "text": [
            "Setting `pad_token_id` to `eos_token_id`:50256 for open-end generation.\n"
          ]
        },
        {
          "output_type": "stream",
          "name": "stdout",
          "text": [
            "What is 17 * 24? [TOOL:calc('17*24')]\n",
            "\n",
            "[TOOL:calc('17*24')]\n",
            "\n",
            "[TOOL:calc('17*24')]\n",
            "\n",
            "[TO\n",
            "Tool call executed: 17*24\n"
          ]
        }
      ],
      "source": [
        "from transformers import AutoModelForCausalLM, AutoTokenizer\n",
        "\n",
        "# Base model\n",
        "model = AutoModelForCausalLM.from_pretrained(\"gpt2\")\n",
        "tokenizer = AutoTokenizer.from_pretrained(\"gpt2\")\n",
        "\n",
        "# Simple calculator tool\n",
        "def calculator(expr):\n",
        "    try:\n",
        "        return str(eval(expr))\n",
        "    except:\n",
        "        return \"Error\"\n",
        "\n",
        "# Example inference\n",
        "prompt = \"What is 17 * 24? [TOOL:calc('17*24')]\"\n",
        "inputs = tokenizer(prompt, return_tensors=\"pt\")\n",
        "outputs = model.generate(**inputs, max_length=50)\n",
        "\n",
        "print(tokenizer.decode(outputs[0]))\n",
        "print(\"Tool call executed:\", calculator(\"17*24\"))"
      ]
    }
  ]
}